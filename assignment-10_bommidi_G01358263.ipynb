{
 "cells": [
  {
   "cell_type": "code",
   "execution_count": 27,
   "id": "c4d3ea11",
   "metadata": {},
   "outputs": [],
   "source": [
    "import pandas as p"
   ]
  },
  {
   "cell_type": "code",
   "execution_count": 28,
   "id": "2a6c5baf",
   "metadata": {},
   "outputs": [],
   "source": [
    "d = p.read_csv(\"/Users/sohanbommidi/Downloads/EmployeeAttrition(1).csv\")"
   ]
  },
  {
   "cell_type": "code",
   "execution_count": 73,
   "id": "56397fa9",
   "metadata": {},
   "outputs": [
    {
     "name": "stdout",
     "output_type": "stream",
     "text": [
      "entries/rows : 1470\n",
      "columns : 35\n"
     ]
    }
   ],
   "source": [
    "#Q1: Find the number of entries/rows and columns in the data.\n",
    "print(\"entries/rows :\",d.shape[0])\n",
    "print(\"columns :\",d.shape[1])"
   ]
  },
  {
   "cell_type": "code",
   "execution_count": 74,
   "id": "b880241c",
   "metadata": {},
   "outputs": [
    {
     "name": "stdout",
     "output_type": "stream",
     "text": [
      "6502.931292517007\n"
     ]
    }
   ],
   "source": [
    "#Q2: What is the average Monthly Income?\n",
    "print(d['MonthlyIncome'].mean())"
   ]
  },
  {
   "cell_type": "code",
   "execution_count": 75,
   "id": "489f765e",
   "metadata": {},
   "outputs": [
    {
     "name": "stdout",
     "output_type": "stream",
     "text": [
      "Hourly Rate:  100\n"
     ]
    }
   ],
   "source": [
    "#Q3: What is the highest amount of HourlyRate ?\n",
    "print(\"Hourly Rate: \",max(d['HourlyRate']))"
   ]
  },
  {
   "cell_type": "code",
   "execution_count": 76,
   "id": "7a92bc86",
   "metadata": {},
   "outputs": [
    {
     "name": "stdout",
     "output_type": "stream",
     "text": [
      "               Department                JobRole MaritalStatus OverTime\n",
      "6  Research & Development  Laboratory Technician       Married      Yes\n"
     ]
    }
   ],
   "source": [
    "#Q4: What is the Department, JobRole, MaritalStatus and OverTime of EmployeeNumber 10?\n",
    "filtered_data = d[d[\"EmployeeNumber\"] == 10]\n",
    "print(p.DataFrame(filtered_data, columns=[\"Department\", \"JobRole\", \"MaritalStatus\", \"OverTime\"]))\n"
   ]
  },
  {
   "cell_type": "code",
   "execution_count": 77,
   "id": "325c83dc",
   "metadata": {},
   "outputs": [
    {
     "name": "stdout",
     "output_type": "stream",
     "text": [
      "190    259\n",
      "Name: EmployeeNumber, dtype: int64\n"
     ]
    }
   ],
   "source": [
    "#Q5: What is the Employee ID of highest MonthlyIncome paid employee?\n",
    "data_frame = p.DataFrame(d)\n",
    "print(data_frame[data_frame.MonthlyIncome == data_frame.MonthlyIncome.max()].EmployeeNumber)"
   ]
  },
  {
   "cell_type": "code",
   "execution_count": 78,
   "id": "67c8c327",
   "metadata": {},
   "outputs": [
    {
     "name": "stdout",
     "output_type": "stream",
     "text": [
      "     DailyRate\n",
      "Age           \n",
      "59       992.3\n",
      "60       833.2\n"
     ]
    }
   ],
   "source": [
    "#Q6: What is the average(mean) DailyRate group by Age for all\n",
    "#Employees whose age is greater than 58. (hint: use groupby function)\n",
    "data_frame = p.DataFrame(d[d[\"Age\"]>58], columns=[\"Age\", \"DailyRate\"])\n",
    "print(data_frame.groupby([\"Age\"]).mean())"
   ]
  },
  {
   "cell_type": "code",
   "execution_count": 79,
   "id": "8cfe7ac0",
   "metadata": {},
   "outputs": [
    {
     "name": "stdout",
     "output_type": "stream",
     "text": [
      "6\n"
     ]
    }
   ],
   "source": [
    "#Q7: How many unique EducationField are there?\n",
    "data_frame = p.DataFrame(d)\n",
    "print(data_frame.EducationField.unique().size)"
   ]
  },
  {
   "cell_type": "code",
   "execution_count": 80,
   "id": "4ae62a52",
   "metadata": {},
   "outputs": [
    {
     "name": "stdout",
     "output_type": "stream",
     "text": [
      "JobRole\n",
      "Sales Executive              326\n",
      "Research Scientist           292\n",
      "Laboratory Technician        259\n",
      "Manufacturing Director       145\n",
      "Healthcare Representative    131\n",
      "dtype: int64\n"
     ]
    }
   ],
   "source": [
    "#Q8: What are the top 5 most common JobRole?\n",
    "data_frame = p.DataFrame(d)\n",
    "print(data_frame.groupby([\"JobRole\"]).size().nlargest(5))"
   ]
  },
  {
   "cell_type": "code",
   "execution_count": 81,
   "id": "142ad095",
   "metadata": {},
   "outputs": [
    {
     "name": "stdout",
     "output_type": "stream",
     "text": [
      "9\n"
     ]
    }
   ],
   "source": [
    "#Q9: How many JobRoles represented by less than 100 employees?\n",
    "data_frame = p.DataFrame(d)\n",
    "a=data_frame.groupby([\"JobRole\"]).size()\n",
    "print(a.count())"
   ]
  },
  {
   "cell_type": "code",
   "execution_count": 82,
   "id": "bdb18fdc",
   "metadata": {},
   "outputs": [
    {
     "name": "stdout",
     "output_type": "stream",
     "text": [
      "-0.011296116736573995\n"
     ]
    }
   ],
   "source": [
    "#Q10: What is the correlation between Education and JobSatisfaction?\n",
    "data_frame = p.DataFrame(d)\n",
    "print(data_frame[\"Education\"].corr(data_frame[\"JobSatisfaction\"]))"
   ]
  },
  {
   "cell_type": "code",
   "execution_count": null,
   "id": "02c008d7",
   "metadata": {},
   "outputs": [],
   "source": []
  }
 ],
 "metadata": {
  "kernelspec": {
   "display_name": "Python 3 (ipykernel)",
   "language": "python",
   "name": "python3"
  },
  "language_info": {
   "codemirror_mode": {
    "name": "ipython",
    "version": 3
   },
   "file_extension": ".py",
   "mimetype": "text/x-python",
   "name": "python",
   "nbconvert_exporter": "python",
   "pygments_lexer": "ipython3",
   "version": "3.9.7"
  }
 },
 "nbformat": 4,
 "nbformat_minor": 5
}
